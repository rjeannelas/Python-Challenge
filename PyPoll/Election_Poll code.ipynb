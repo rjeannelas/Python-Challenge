{
 "cells": [
  {
   "cell_type": "code",
   "execution_count": 9,
   "id": "57f7dc2b-bb71-4298-a6b8-84135afd3dcb",
   "metadata": {},
   "outputs": [],
   "source": [
    "# import poll\n",
    "import os\n",
    "import csv"
   ]
  },
  {
   "cell_type": "code",
   "execution_count": 10,
   "id": "c5920921-81cb-49b5-b4b1-ba4a8d180858",
   "metadata": {},
   "outputs": [],
   "source": [
    "# Reference variables\n",
    "votes = []\n",
    "county = []\n",
    "candidates = []\n",
    "Charles_Casper_Stockham = []\n",
    "Diana_DeGette = []\n",
    "Raymon_Anthony_Doane = []\n",
    "Charles_Casper_Stockham_votes = 0\n",
    "Diana_DeGette_votes = 0\n",
    "Raymon_Anthony_Doane_votes = 0"
   ]
  },
  {
   "cell_type": "code",
   "execution_count": 18,
   "id": "938e79f2-c94f-49ff-a222-125e9699ec73",
   "metadata": {},
   "outputs": [
    {
     "name": "stdout",
     "output_type": "stream",
     "text": [
      "C:\\Users\\rjean\\Downloads\\Resources\\election_data.csv\n"
     ]
    }
   ],
   "source": [
    "# open file location and read csv\n",
    "election_data=os.path.join('Resources','election_data.csv')\n",
    "print(os.path.abspath(election_data))"
   ]
  },
  {
   "cell_type": "code",
   "execution_count": 19,
   "id": "df2f63d2-4edf-4557-ae9e-8b4e2abda896",
   "metadata": {},
   "outputs": [
    {
     "name": "stdout",
     "output_type": "stream",
     "text": [
      "Header: ['Ballot ID', 'County', 'Candidate']\n"
     ]
    }
   ],
   "source": [
    "with open(csvpath, newline='') as csvfile:\n",
    "    csvreader = csv.reader(csvfile, delimiter=',')\n",
    "    csv_header = next(csvreader)\n",
    "    print(f\"Header: {csv_header}\")\n",
    "    \n",
    "    # Iterate each row of data after header\n",
    "    for row in csvreader:\n",
    "        votes.append(int(row[0]))\n",
    "        county.append(row[1])\n",
    "        candidates.append(row[2])"
   ]
  },
  {
   "cell_type": "code",
   "execution_count": 22,
   "id": "369b65b9-5f9a-400a-8ad4-0929472f516e",
   "metadata": {},
   "outputs": [
    {
     "name": "stdout",
     "output_type": "stream",
     "text": [
      "739422\n"
     ]
    }
   ],
   "source": [
    "# Count the Voter ID's for total\n",
    "total_votes = (len(votes))\n",
    "print(total_votes)"
   ]
  },
  {
   "cell_type": "code",
   "execution_count": 25,
   "id": "15b0501a-9695-4fc6-90cb-567a08f35db8",
   "metadata": {},
   "outputs": [
    {
     "name": "stdout",
     "output_type": "stream",
     "text": [
      "511278\n",
      "1637352\n",
      "69636\n"
     ]
    }
   ],
   "source": [
    "# Count the votes by canidate name\n",
    "for candidate in candidates:\n",
    "    if candidate == \"Charles Casper Stockham\":\n",
    "        Charles_Casper_Stockham.append(candidates)\n",
    "        Charles_Casper_Stockham_votes = len(Charles_Casper_Stockham)\n",
    "\n",
    "    elif candidate == \"Diana DeGette\":\n",
    "        Diana_DeGette.append(candidates)\n",
    "        Diana_DeGette_votes = len(Diana_DeGette)\n",
    "\n",
    "    else:\n",
    "        Raymon_Anthony_Doane.append(candidates)\n",
    "        Raymon_Anthony_Doane_votes = len(Raymon_Anthony_Doane)\n",
    "        \n",
    "print(Charles_Casper_Stockham_votes)\n",
    "print(Diana_DeGette_votes)\n",
    "print(Raymon_Anthony_Doane_votes)"
   ]
  },
  {
   "cell_type": "code",
   "execution_count": 27,
   "id": "05249087-5fde-4e30-ad02-99a747b3e99f",
   "metadata": {},
   "outputs": [
    {
     "name": "stdout",
     "output_type": "stream",
     "text": [
      "69.146\n",
      "221.437\n",
      "9.418\n"
     ]
    }
   ],
   "source": [
    "# Percentages\n",
    "Charles_Casper_Stockham_percent = round(((Charles_Casper_Stockham_votes / total_votes) * 100), 3)\n",
    "Diana_DeGette_percent = round(((Diana_DeGette_votes / total_votes) * 100), 3)\n",
    "Raymon_Anthony_Doane_percent = round(((Raymon_Anthony_Doane_votes / total_votes) * 100), 3)\n",
    "\n",
    "print(Charles_Casper_Stockham_percent)\n",
    "print(Diana_DeGette_percent)\n",
    "print(Raymon_Anthony_Doane_percent)"
   ]
  },
  {
   "cell_type": "code",
   "execution_count": 29,
   "id": "c9db7609-b912-4c59-9c4b-6f5f9c21a209",
   "metadata": {},
   "outputs": [],
   "source": [
    "# Winner \n",
    "if Charles_Casper_Stockham_percent > max(Diana_DeGette_percent, Raymon_Anthony_Doane_percent):\n",
    "    winner = \"Charles_Casper_Stockham\"\n",
    "elif Diana_DeGette_percent > max(Charles_Casper_Stockham_percent, Raymon_Anthony_Doane_percent):\n",
    "    winner = \"Diana_DeGette\"  \n",
    "else:\n",
    "    winner = \"Raymon_Anthony_Doane\""
   ]
  },
  {
   "cell_type": "code",
   "execution_count": 30,
   "id": "0a216794-64b0-4859-880c-9a377f91c4e6",
   "metadata": {},
   "outputs": [
    {
     "name": "stdout",
     "output_type": "stream",
     "text": [
      "Election Results\n",
      "-----------------------------------\n",
      "Total Votes: 739422\n",
      "-----------------------------------\n",
      "Charles_Casper_Stockham_percent: 69.146% (511278)\n",
      "Diana_DeGette: 221.437% (1637352)\n",
      "Raymon_Anthony_Doane: 9.418% (69636)\n",
      "-----------------------------------\n",
      "Winner: Diana_DeGette\n",
      "-----------------------------------\n"
     ]
    }
   ],
   "source": [
    "# Print Statements\n",
    "print(f'''Election Results\n",
    "-----------------------------------\n",
    "Total Votes: {total_votes}\n",
    "-----------------------------------\n",
    "Charles_Casper_Stockham_percent: {Charles_Casper_Stockham_percent}% ({Charles_Casper_Stockham_votes})\n",
    "Diana_DeGette: {Diana_DeGette_percent}% ({Diana_DeGette_votes})\n",
    "Raymon_Anthony_Doane: {Raymon_Anthony_Doane_percent}% ({Raymon_Anthony_Doane_votes})\n",
    "-----------------------------------\n",
    "Winner: {winner}\n",
    "-----------------------------------''')\n"
   ]
  },
  {
   "cell_type": "code",
   "execution_count": 33,
   "id": "f5a08630-655a-49a2-82f6-bde6b0ec3ce1",
   "metadata": {},
   "outputs": [],
   "source": [
    "# Output to a text file\n",
    "\n",
    "file = open(\"output.txt\",\"w\")\n",
    "file.write(f'''Election Results\n",
    "-----------------------------------\n",
    "Total Votes: {total_votes}\n",
    "-----------------------------------\n",
    "Charles_Casper_Stockham_percent: {Charles_Casper_Stockham_percent}% ({Charles_Casper_Stockham_votes})\n",
    "Diana_DeGette: {Diana_DeGette_percent}% ({Diana_DeGette_votes})\n",
    "Raymon_Anthony_Doane: {Raymon_Anthony_Doane_percent}% ({Raymon_Anthony_Doane_votes})\n",
    "-----------------------------------\n",
    "Winner: {winner}\n",
    "-----------------------------------''')\n",
    "\n",
    "file.close()"
   ]
  }
 ],
 "metadata": {
  "kernelspec": {
   "display_name": "Python 3 (ipykernel)",
   "language": "python",
   "name": "python3"
  },
  "language_info": {
   "codemirror_mode": {
    "name": "ipython",
    "version": 3
   },
   "file_extension": ".py",
   "mimetype": "text/x-python",
   "name": "python",
   "nbconvert_exporter": "python",
   "pygments_lexer": "ipython3",
   "version": "3.9.13"
  }
 },
 "nbformat": 4,
 "nbformat_minor": 5
}
