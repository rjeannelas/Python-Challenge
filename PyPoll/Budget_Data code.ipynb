{
 "cells": [
  {
   "cell_type": "code",
   "execution_count": 261,
   "id": "733e16ff-dfc3-4c7a-8623-9d81fbfbe05a",
   "metadata": {},
   "outputs": [],
   "source": [
    "# import library\n",
    "import os\n",
    "import csv"
   ]
  },
  {
   "cell_type": "code",
   "execution_count": 270,
   "id": "7c38ba95-eb41-4b99-9992-08f72f27b549",
   "metadata": {},
   "outputs": [],
   "source": [
    "# Reference variables\n",
    "total_months = 0\n",
    "total_profit = 0\n",
    "month_change = 0\n",
    "previous_month = 0\n",
    "total_month_change = 0\n",
    "greatest_increase = 0\n",
    "greatest_increase_month = \"\"\n",
    "greatest_decrease = 0\n",
    "greatest_decrease_month = \"\"\n",
    "average_month_change = 0"
   ]
  },
  {
   "cell_type": "code",
   "execution_count": 271,
   "id": "f6b952c7-b2e6-4609-a978-949fe31a3121",
   "metadata": {},
   "outputs": [
    {
     "name": "stdout",
     "output_type": "stream",
     "text": [
      "C:\\Users\\rjean\\Downloads\\Resources\\budget_data.csv\n"
     ]
    }
   ],
   "source": [
    "# join path for the CSV file\n",
    "budget_data = os.path.join('Resources', 'budget_data.csv')\n",
    "print(os.path.abspath(budget_data))"
   ]
  },
  {
   "cell_type": "code",
   "execution_count": 272,
   "id": "41885084-54f8-4bc0-b381-d330d95d3968",
   "metadata": {},
   "outputs": [],
   "source": [
    "with open(budget_data,newline=\"\", encoding=\"utf\") as budget_data:\n",
    "    csvreader = csv.reader(budget_data,delimiter=\",\")\n",
    "    csv_header = next(csvreader)\n",
    "    \n",
    "    total_profit = []\n",
    "    total_months = []\n",
    "    \n",
    "    for rows in csvreader:\n",
    "        P.append(int(rows[1]))\n",
    "        months.append(rows[0])\n",
    "        \n",
    "# find revenue change, iterate through the profits\n",
    "    revenue_change =[]\n",
    "    for x in range(1, len(P)):\n",
    "        revenue_change.append((int(P[x]) - int(P[x-1])))"
   ]
  },
  {
   "cell_type": "code",
   "execution_count": 274,
   "id": "132633f5-76fe-48cc-a074-39ed67d9a195",
   "metadata": {},
   "outputs": [],
   "source": [
    "# Calculate average revenue change\n",
    "revenue_average_change = sum(revenue_change) / len(revenue_change)\n",
    "revenue_average = round(revenue_average_change, 2)"
   ]
  },
  {
   "cell_type": "code",
   "execution_count": 275,
   "id": "d7784047-84c1-476f-94c1-c489db728958",
   "metadata": {},
   "outputs": [],
   "source": [
    "# Calculate total length of months\n",
    "total_months = len(months)"
   ]
  },
  {
   "cell_type": "code",
   "execution_count": 277,
   "id": "0ca3aac4-dcda-4c20-8a1f-fb2e46a4406b",
   "metadata": {},
   "outputs": [],
   "source": [
    "# greatest increase in revenue\n",
    "greatest_increase = max(revenue_change)"
   ]
  },
  {
   "cell_type": "code",
   "execution_count": 278,
   "id": "8ae7c14f-e2ad-4484-9242-d4b9a72dcced",
   "metadata": {},
   "outputs": [],
   "source": [
    "# greatest decrease in revenue\n",
    "greatest_decrease = min(revenue_change)"
   ]
  },
  {
   "cell_type": "code",
   "execution_count": 282,
   "id": "f0c43f91-e528-4626-9a74-fdd8ffd7da1d",
   "metadata": {},
   "outputs": [
    {
     "name": "stdout",
     "output_type": "stream",
     "text": [
      "Financial Analysis\n",
      ".........................................\n",
      "Total Months:432\n",
      "Total:$114998956\n",
      "Average Change:$-1639.08\n",
      "Greatest Increase in Profits: Aug-16 ($1862002)\n",
      "Greatest Decrease in Profits: Feb-14 ($-1825558)\n"
     ]
    }
   ],
   "source": [
    "# Print statements\n",
    "print (\"Financial Analysis\")\n",
    "\n",
    "print(\".........................................\")\n",
    "\n",
    "print (\"Total Months:\" + str(total_months))\n",
    "\n",
    "print(\"Total:\" + \"$\" + str(sum(P)))\n",
    "\n",
    "print (\"Average Change:\" + \"$\" + str(revenue_average))\n",
    "\n",
    "print(\"Greatest Increase in Profits: \" + str(months[revenue_change.index(max(revenue_change))+1]) + \" \" + \"($\" + str(greatest_increase) + \")\")\n",
    "\n",
    "print(\"Greatest Decrease in Profits: \" + str(months[revenue_change.index(min(revenue_change))+1]) + \" \" + \"($\" + str(greatest_decrease) + \")\")"
   ]
  },
  {
   "cell_type": "code",
   "execution_count": 293,
   "id": "afe2c91f-e235-4552-b1f7-28b36a5c9cc3",
   "metadata": {},
   "outputs": [],
   "source": [
    "#// Write a text file with analysis\n",
    "budget_data = os.path.join(\"Resources\", \"Financial_Analysis.txt\")\n",
    "with open(budget_data, \"w\") as file:\n",
    "    file.write(\"Financial Analysis\" + \"\\n\")\n",
    "\n",
    "    file.write(\".......................................\" + \"\\n\")\n",
    "\n",
    "    file.write(\"total months: \" + str(total_months) + \"\\n\")\n",
    "\n",
    "    file.write(\"Total: \" + \"$\" + str(sum(P)) + \"\\n\")\n",
    "\n",
    "    file.write(\"Average change: \" + \"$\" + str(revenue_average) + \"\\n\")\n",
    "\n",
    "    file.write(\"Greatest Increase in Profits: \" + str(months[revenue_change.index(max(revenue_change))+1]) + \" \" + \"($\" + str(greatest_increase) + \")\\n\")\n",
    "\n",
    "    file.write(\"Greatest Decrease in Profits: \" + str(months[revenue_change.index(min(revenue_change))+1]) + \" \" + \"($\" + str(greatest_decrease) + \")\\n\")\n",
    "\n",
    "    file.close()"
   ]
  },
  {
   "cell_type": "code",
   "execution_count": null,
   "id": "d988e6b6-1439-4ec7-bd15-75afac3c0647",
   "metadata": {},
   "outputs": [],
   "source": []
  }
 ],
 "metadata": {
  "kernelspec": {
   "display_name": "Python 3 (ipykernel)",
   "language": "python",
   "name": "python3"
  },
  "language_info": {
   "codemirror_mode": {
    "name": "ipython",
    "version": 3
   },
   "file_extension": ".py",
   "mimetype": "text/x-python",
   "name": "python",
   "nbconvert_exporter": "python",
   "pygments_lexer": "ipython3",
   "version": "3.9.13"
  }
 },
 "nbformat": 4,
 "nbformat_minor": 5
}
